{
 "cells": [
  {
   "cell_type": "code",
   "execution_count": 2,
   "metadata": {
    "collapsed": true
   },
   "outputs": [],
   "source": [
    "# P5.1 Strings\n",
    "# Use the string str: \"Python Programming\" for questions 5.1.1 to 5.1.3."
   ]
  },
  {
   "cell_type": "code",
   "execution_count": 76,
   "outputs": [
    {
     "name": "stdout",
     "output_type": "stream",
     "text": [
      "Method 1: Length of sting is 18\n",
      "Method 2: length of string is 18\n",
      "Method 3: length of string is {18}\n"
     ]
    }
   ],
   "source": [
    "# 5.1.1 Iterate the string to calculate the length of str (hint: use for loop and len()).\n",
    "\n",
    "str = \"Python Programming\"\n",
    "\n",
    "\n",
    "# Method 1\n",
    "def length(str):\n",
    "    counter = 0\n",
    "    for i in str:\n",
    "        counter += 1\n",
    "    return counter\n",
    "\n",
    "\n",
    "print(f'Method 1: Length of sting is {length(str)}')\n",
    "\n",
    "# Method 2...\n",
    "str = \"Python Programming\"\n",
    "cal_str = 0\n",
    "for i in str:\n",
    "    cal_str += 1\n",
    "print(f'Method 2: length of string is {cal_str}')\n",
    "\n",
    "# Method 3... for loop and len()\n",
    "str_length = {len(str) for v in str}\n",
    "print(f'Method 3: length of string is {str_length}')"
   ],
   "metadata": {
    "collapsed": false
   }
  },
  {
   "cell_type": "code",
   "execution_count": 166,
   "outputs": [
    {
     "name": "stdout",
     "output_type": "stream",
     "text": [
      "Length of sting 'o' is [4, 9]\n"
     ]
    }
   ],
   "source": [
    "# 5.1.2 String Indexing:\n",
    "# a. Get the index number of the letter \"o\" in the string.\n",
    "\n",
    "str = \"Python Programming\"\n",
    "\n",
    "# Method 1\n",
    "length_str_o = []\n",
    "for i in range(0, len(str)):\n",
    "    if str[i] == 'o':\n",
    "        length_str_o.append(i)\n",
    "print(f\"Length of sting 'o' is {length_str_o}\")"
   ],
   "metadata": {
    "collapsed": false
   }
  },
  {
   "cell_type": "code",
   "execution_count": 134,
   "outputs": [
    {
     "name": "stdout",
     "output_type": "stream",
     "text": [
      "\"Program\" in the string segment \"Programming\" :  Program\n"
     ]
    }
   ],
   "source": [
    "# 5.1.2 String Indexing:\n",
    "# b. Find \"Program\" in the string segment \"Programming\".\n",
    "\n",
    "str = \"Python Programming\"\n",
    "\n",
    "str_index = str[6:-4]\n",
    "print(f'\"Program\" in the string segment \"Programming\" : {str_index}')"
   ],
   "metadata": {
    "collapsed": false
   }
  },
  {
   "cell_type": "code",
   "execution_count": 151,
   "outputs": [
    {
     "name": "stdout",
     "output_type": "stream",
     "text": [
      "a : thon\n",
      "b : gnimmargorP \n",
      "c : Pto\n"
     ]
    }
   ],
   "source": [
    "# 5.1.3 Use slice to get the following:\n",
    "# a. \"thon\"\n",
    "str = \"Python Programming\"\n",
    "slice_str_a = str[2:-12]\n",
    "print(f'a : {slice_str_a}')\n",
    "\n",
    "# b. \"gnimmargorP\"\n",
    "slice_str_b = str[:5:-1]\n",
    "print(f'b : {slice_str_b}')\n",
    "\n",
    "# c. \"Pto\"\n",
    "slice_str_c = str[:5:2]\n",
    "print(f'c : {slice_str_c}')"
   ],
   "metadata": {
    "collapsed": false
   }
  },
  {
   "cell_type": "code",
   "execution_count": 154,
   "outputs": [
    {
     "name": "stdout",
     "output_type": "stream",
     "text": [
      "<class 'str'>\n",
      "<class 'float'>\n"
     ]
    }
   ],
   "source": [
    "# 5.1.4 Create a new string and convert it to float.new_string\n",
    "input_question = input('Add your lucky number: ')\n",
    "print(type(input_question))\n",
    "float_new_string = float(input_question)\n",
    "print(type(float_new_string))"
   ],
   "metadata": {
    "collapsed": false
   }
  },
  {
   "cell_type": "code",
   "execution_count": 155,
   "outputs": [
    {
     "name": "stdout",
     "output_type": "stream",
     "text": [
      " I coudn't believe that you are 67 year old, cute smile you have 🤗\n"
     ]
    }
   ],
   "source": [
    "# 5.1.5 Write a program that asks the user to enter his age and print it using the f-string method.\n",
    "\n",
    "age = ' '\n",
    "for i in range(1):\n",
    "    try:\n",
    "        age = int(input('Hey, How old are you?'))\n",
    "        if age >= 30:\n",
    "            print(f\" I coudn't believe that you are {age} year old, cute smile you have 🤗\")\n",
    "        else:\n",
    "            print(f'You looks beautiful in your {age} year old 🤗')\n",
    "    except:\n",
    "        print('Try again, please enter integer number 🤗')"
   ],
   "metadata": {
    "collapsed": false
   }
  },
  {
   "cell_type": "code",
   "execution_count": null,
   "outputs": [],
   "source": [
    "# P5.2 Files and operating system"
   ],
   "metadata": {
    "collapsed": false
   }
  },
  {
   "cell_type": "code",
   "execution_count": 165,
   "outputs": [
    {
     "name": "stdout",
     "output_type": "stream",
     "text": [
      "﻿Today was gonna be the day, but they'll never throw it back to you\n",
      "And by now, you should've somehow realized what you're not to do\n",
      "I don't believe that anybody feels the way I do about you now\n",
      "And all the roads that lead you there were winding\n",
      "\n",
      "\n",
      "<_io.TextIOWrapper name='text_file.txt' mode='r' encoding='UTF-8'>\n"
     ]
    }
   ],
   "source": [
    "# 5.2.1 Create a .txt file and add few lines into the file.\n",
    "# 5.2.2 Load the .txt file\n",
    "path = 'text_file.txt'\n",
    "\n",
    "# 5.2.3 Read the lines from the .txt file\n",
    "\n",
    "# Method 1\n",
    "f = open(path)\n",
    "print(f.read())\n",
    "\n",
    "# to check type of text_file.txt\n",
    "for line in f:\n",
    "    pass\n",
    "print(f)\n",
    "\n",
    "# Method 2\n",
    "# lines = [x.rstrip() for x in open(path)]\n",
    "# print(lines)\n",
    "\n",
    "# Method 3\n",
    "# with open(path) as f:\n",
    "#     lines = [x.rstrip() for x in f]\n",
    "# print(lines)\n",
    "f.close()"
   ],
   "metadata": {
    "collapsed": false
   }
  }
 ],
 "metadata": {
  "kernelspec": {
   "display_name": "Python 3",
   "language": "python",
   "name": "python3"
  },
  "language_info": {
   "codemirror_mode": {
    "name": "ipython",
    "version": 2
   },
   "file_extension": ".py",
   "mimetype": "text/x-python",
   "name": "python",
   "nbconvert_exporter": "python",
   "pygments_lexer": "ipython2",
   "version": "2.7.6"
  }
 },
 "nbformat": 4,
 "nbformat_minor": 0
}

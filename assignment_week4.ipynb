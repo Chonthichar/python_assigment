{
 "cells": [
  {
   "cell_type": "code",
   "execution_count": 215,
   "metadata": {
    "collapsed": true
   },
   "outputs": [
    {
     "name": "stdout",
     "output_type": "stream",
     "text": [
      "4.1.1 Output the length of the tuple A(string): \"5\"\n",
      "4.1.2 Extract the elements from the last to the second location : ('plum', 'durian', 'papaya', 'orange')\n",
      "4.1.2 extract the elements from the last to the second location: (33, 29, 17, 16, 14)\n",
      "4.1.3 Tuple C : ('apple', 'orange', 'papaya', 'durian', 'plum', 12, 14, 16, 17, 29, 33)\n",
      "4.1.4 Create D list by merging A, B :['apple', 'orange', 'papaya', 'durian', 'plum', 12, 14, 16, 17, 29, 33]\n"
     ]
    }
   ],
   "source": [
    "### P4.1 Tuple\n",
    "\n",
    "#### Create a tuple A: all of the elements are string type.\n",
    "#### Create a tuple B: all of the elements are int type.\n",
    "# # Then perform the following:\n",
    "# - 4.1.1 Output the length of the tuple A.\n",
    "# - 4.1.2 Using slicing to extract the elements from the last to the second location.\n",
    "# - 4.1.3 Create a tuple C by combining A, B.\n",
    "# - 4.1.4 Create a list D by Combining A, B.\n",
    "# - 4.1.5 Create a dictionary E, by combining tuple A and B (hint: using zip)\n",
    "\n",
    "A = ('apple', 'orange', 'papaya', 'durian', 'plum')\n",
    "B = (12, 14, 16, 17, 29, 33)\n",
    "\n",
    "# - 4.1.1 Output the length of the tuple A.\n",
    "print(f'4.1.1 Output the length of the tuple A(string): \"{len(A)}\"')\n",
    "\n",
    "# - 4.1.2 Using slicing to extract the elements from the last to the second location\n",
    "print(f'4.1.2 Extract the elements from the last to the second location : {A[:0:-1]}')\n",
    "print(f'4.1.2 extract the elements from the last to the second location: {B[:0:-1]}')\n",
    "\n",
    "# - 4.1.3 Create a tuple C by combining A, B.\n",
    "C = A + B\n",
    "print(f'4.1.3 Tuple C : {C}')\n",
    "\n",
    "# - 4.1.4 Create a list D by Combining A, B.\n",
    "D = list(A + B)\n",
    "print(f'4.1.4 Create D list by merging A, B :{D}')"
   ]
  },
  {
   "cell_type": "code",
   "execution_count": 216,
   "outputs": [
    {
     "name": "stdout",
     "output_type": "stream",
     "text": [
      "4.2.1 Output Str_1 : ['Thank', 'you']\n",
      "4.2.2 Output str_2 : ['Thank', 'you', 'so', 'much']\n",
      "4.2.3 Output str_3 : ['Thank', 'you', 'so', 'much']\n"
     ]
    }
   ],
   "source": [
    "# P4.2 List\n",
    "\n",
    "#### P4.2.1 There is a list str_1 = ['Thank']. Add 'You' after the '' in str_1 and output str_1.\n",
    "\n",
    "#### P4.2.2 There is a list str_2 = ['Thank', 'you', 'much']. Add 'so' after 'you' in str_2 to output greetin_2.\n",
    "\n",
    "#### P4.2.3 There is a list str_3 = ['Thank', 'you', 'so', 'very', 'much']. Remove the element 'very.' from str_3 and output str_3.\n",
    "\n",
    "\n",
    "str_1 = ['Thank']\n",
    "str_2 = ['Thank', 'you', 'much']\n",
    "str_3 = ['Thank', 'you', 'so', 'very', 'much']\n",
    "\n",
    "# P4.2.1\n",
    "str_1.append('you')\n",
    "print(f'4.2.1 Output Str_1 : {str_1}')\n",
    "\n",
    "# P4.2.2\n",
    "str_2.insert(2, 'so')\n",
    "print(f'4.2.2 Output str_2 : {str_2}')\n",
    "\n",
    "# P4.2.3\n",
    "str_3.pop(3)\n",
    "print(f'4.2.3 Output str_3 : {str_3}')"
   ],
   "metadata": {
    "collapsed": false
   }
  },
  {
   "cell_type": "code",
   "execution_count": 219,
   "outputs": [
    {
     "name": "stdout",
     "output_type": "stream",
     "text": [
      "4.3.1 List of keys in the vegetable_dict : ['Tomato', 'Carrot', 'Eggplant', 'Onion', 'Potato']\n",
      "4.3.2 The average value of vegetable_dict : 35.0\n"
     ]
    }
   ],
   "source": [
    "### P4.3 Dictionary\n",
    "\n",
    "#### P4.3.1 Show the list of keys in the vegetable_dict.\n",
    "#### P4.3.2 Calculate and output the average value of vegetable_dict.\n",
    "\n",
    "vegetable_dict = {'Tomato': 40, 'Carrot': 20, 'Eggplant': 50, 'Onion': 30, 'Potato': 35}\n",
    "\n",
    "# P4.3.1\n",
    "def key_list(vegetable_dict):\n",
    "    empty_list = []\n",
    "    for i in vegetable_dict.keys():\n",
    "        empty_list.append(i)\n",
    "    return empty_list\n",
    "\n",
    "\n",
    "print(f'4.3.1 List of keys in the vegetable_dict : {key_list(vegetable_dict)}')\n",
    "\n",
    "# P4.3.2\n",
    "avg = 0\n",
    "a = list(vegetable_dict.values())\n",
    "for items in a:\n",
    "    avg = avg + items\n",
    "avg = avg / len(a)\n",
    "print(f'4.3.2 The average value of vegetable_dict : {avg}')"
   ],
   "metadata": {
    "collapsed": false
   }
  }
 ],
 "metadata": {
  "kernelspec": {
   "display_name": "Python 3",
   "language": "python",
   "name": "python3"
  },
  "language_info": {
   "codemirror_mode": {
    "name": "ipython",
    "version": 2
   },
   "file_extension": ".py",
   "mimetype": "text/x-python",
   "name": "python",
   "nbconvert_exporter": "python",
   "pygments_lexer": "ipython2",
   "version": "2.7.6"
  }
 },
 "nbformat": 4,
 "nbformat_minor": 0
}
